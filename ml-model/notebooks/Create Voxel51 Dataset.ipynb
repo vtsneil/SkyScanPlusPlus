{
 "cells": [
  {
   "cell_type": "markdown",
   "metadata": {
    "tags": []
   },
   "source": [
    "# Creating a Voxel51 Dataset from SkyScan Images\n",
    "This notebook will create a Voxel51 dataset from images captured by SkyScan. The images will be labeled with the ICAO24 identifer from the ADS-B broadcast."
   ]
  },
  {
   "cell_type": "code",
   "execution_count": 1,
   "metadata": {},
   "outputs": [],
   "source": [
    "# Authors: Luke Berndt, John Speed Meyers\n",
    "# SkyScan Project\n",
    "# IQT Labs, IQT"
   ]
  },
  {
   "cell_type": "code",
   "execution_count": 2,
   "metadata": {
    "tags": []
   },
   "outputs": [],
   "source": [
    "import glob\n",
    "import os\n",
    "import random #not needed in production build\n",
    "\n",
    "import fiftyone as fo"
   ]
  },
  {
   "cell_type": "code",
   "execution_count": 3,
   "metadata": {
    "tags": []
   },
   "outputs": [],
   "source": [
    "# Name of the Voxel51 dataset. It should not exist already.\n",
    "DATASET_NAME=\"jsm-test-dataset-1\"\n",
    "# Directory with the images. It should be mapped into the container using the Docker volume command.\n",
    "IMAGE_DIR=\"./images/\"\n",
    "DATASOURCE_NAME=\"testPlaneDetect\""
   ]
  },
  {
   "cell_type": "code",
   "execution_count": 7,
   "metadata": {},
   "outputs": [],
   "source": [
    "def build_image_list(file_path):\n",
    "    \"\"\"Create a list of plane data dicts.\n",
    "    \n",
    "    Extract plane data from from jpg filenames.\n",
    "\n",
    "    The plane image filenames follow a strict naming convention.\n",
    "    For instance, ac760d_194_50_11882_2021-05-13-14-13-42.jpg translates to\n",
    "    ac760d - plane_id, aka ICAO 24\n",
    "    194 - plane bearing\n",
    "    50 - plane elevation\n",
    "    11882 - plane distance\n",
    "    TODO: external_id - ????\n",
    "    \n",
    "    Args:\n",
    "        file_path - Path to images\n",
    "        \n",
    "    Returns:\n",
    "        (list) image_list - a list of plane dict objects\n",
    "    \"\"\"\n",
    "    print(\"running build_image_list\")\n",
    "    image_list = []\n",
    "    imageNum = 0\n",
    "    for folder, _, files in os.walk(file_path):\n",
    "        for file in files:\n",
    "            if file.endswith(\".jpg\"):\n",
    "                print(\"fileFound\")\n",
    "                # extract metadata for each plane from filename\n",
    "                \n",
    "                ##### - added code\n",
    "                # FOR TESTING PURPOSES\n",
    "                # changes the path for all the images to be compatible with the notebooks (renames files)\n",
    "                # randomly assigns a plane_id_num to each \n",
    "                plane_id_num = random.randint(0,2)\n",
    "                plane_id_str = \"\"\n",
    "                match plane_id_num:\n",
    "                    case 0:\n",
    "                        plane_id_str = \"ac760d\"\n",
    "                    case 1:\n",
    "                        plane_id_str = \"abc123\"\n",
    "                    case 2:\n",
    "                        plane_id_str = \"xyz456\"\n",
    "                        \n",
    "                image_filename_old = \"./images/\" + file\n",
    "                image_filename_new = \"./images/\" + plane_id_str + \"_\" + str(imageNum) + \".jpg\"\n",
    "                os.rename(image_filename_old, image_filename_new)\n",
    "                imageNum+=1\n",
    "                \n",
    "                \n",
    "                #####\n",
    "                file = plane_id_str + \"_\" + str(imageNum) + \".jpg\"\n",
    "                image_filename = os.path.basename(file)\n",
    "                external_id = os.path.splitext(image_filename)[0]\n",
    "                image_path = os.path.abspath(os.path.join(folder, file))\n",
    "                plane_id = external_id.split(\"_\")[0]\n",
    "                #plane_bearing = external_id.split(\"_\")[1]\n",
    "                #plane_elevation = external_id.split(\"_\")[2]\n",
    "                #plane_distance = external_id.split(\"_\")[3]\n",
    "                # place plane image data in a dict\n",
    "                item = {\"file_path\": image_path,\n",
    "                        \"external_id\": external_id,\n",
    "                        #\"bearing\": plane_bearing,\n",
    "                        #\"elevation\": plane_elevation,\n",
    "                        #\"distance\": plane_distance,\n",
    "                        \"icao24\": plane_id}\n",
    "\n",
    "                image_list.append(item)\n",
    "                print(\"added filename: \" + image_filename)\n",
    "\n",
    "    return image_list"
   ]
  },
  {
   "cell_type": "markdown",
   "metadata": {},
   "source": [
    "## Create or load dataset"
   ]
  },
  {
   "cell_type": "code",
   "execution_count": 8,
   "metadata": {},
   "outputs": [
    {
     "name": "stdout",
     "output_type": "stream",
     "text": [
      "Dataset already exists.Loaded jsm-test-dataset-1 dataset\n"
     ]
    }
   ],
   "source": [
    "# Create dataset\n",
    "# cell time estimate: 15 seconds\n",
    "\n",
    "# attempt to open dataset\n",
    "try:\n",
    "    dataset = fo.Dataset(name=DATASET_NAME)\n",
    "    dataset.persistent = True\n",
    "    print(\"Created {} dataset\".format(DATASET_NAME))\n",
    "# If the dataset already exists, load it instead \n",
    "except ValueError:\n",
    "    dataset = fo.load_dataset(name=DATASET_NAME)\n",
    "    print(\"Dataset already exists.Loaded {} dataset\".format(DATASET_NAME))"
   ]
  },
  {
   "cell_type": "markdown",
   "metadata": {},
   "source": [
    "## Add image samples to Voxel51 dataset"
   ]
  },
  {
   "cell_type": "code",
   "execution_count": 6,
   "metadata": {},
   "outputs": [
    {
     "name": "stdout",
     "output_type": "stream",
     "text": [
      "running build_image_list\n",
      "fileFound\n"
     ]
    },
    {
     "ename": "FileExistsError",
     "evalue": "[WinError 183] Cannot create a file when that file already exists: './images/abc123_15.jpg' -> './images/ac760d_0.jpg'",
     "output_type": "error",
     "traceback": [
      "\u001b[1;31m---------------------------------------------------------------------------\u001b[0m",
      "\u001b[1;31mFileExistsError\u001b[0m                           Traceback (most recent call last)",
      "Cell \u001b[1;32mIn[6], line 1\u001b[0m\n\u001b[1;32m----> 1\u001b[0m image_list \u001b[38;5;241m=\u001b[39m \u001b[43mbuild_image_list\u001b[49m\u001b[43m(\u001b[49m\u001b[43mIMAGE_DIR\u001b[49m\u001b[43m)\u001b[49m\n\u001b[0;32m      2\u001b[0m \u001b[38;5;28mprint\u001b[39m(\u001b[38;5;124m\"\u001b[39m\u001b[38;5;124mlen: \u001b[39m\u001b[38;5;124m\"\u001b[39m \u001b[38;5;241m+\u001b[39m \u001b[38;5;28mstr\u001b[39m(\u001b[38;5;28mlen\u001b[39m(image_list)))\n\u001b[0;32m      4\u001b[0m \u001b[38;5;66;03m# Add samples to the dataset\u001b[39;00m\n",
      "Cell \u001b[1;32mIn[4], line 45\u001b[0m, in \u001b[0;36mbuild_image_list\u001b[1;34m(file_path)\u001b[0m\n\u001b[0;32m     43\u001b[0m image_filename_old \u001b[38;5;241m=\u001b[39m \u001b[38;5;124m\"\u001b[39m\u001b[38;5;124m./images/\u001b[39m\u001b[38;5;124m\"\u001b[39m \u001b[38;5;241m+\u001b[39m file\n\u001b[0;32m     44\u001b[0m image_filename_new \u001b[38;5;241m=\u001b[39m \u001b[38;5;124m\"\u001b[39m\u001b[38;5;124m./images/\u001b[39m\u001b[38;5;124m\"\u001b[39m \u001b[38;5;241m+\u001b[39m plane_id_str \u001b[38;5;241m+\u001b[39m \u001b[38;5;124m\"\u001b[39m\u001b[38;5;124m_\u001b[39m\u001b[38;5;124m\"\u001b[39m \u001b[38;5;241m+\u001b[39m \u001b[38;5;28mstr\u001b[39m(imageNum) \u001b[38;5;241m+\u001b[39m \u001b[38;5;124m\"\u001b[39m\u001b[38;5;124m.jpg\u001b[39m\u001b[38;5;124m\"\u001b[39m\n\u001b[1;32m---> 45\u001b[0m \u001b[43mos\u001b[49m\u001b[38;5;241;43m.\u001b[39;49m\u001b[43mrename\u001b[49m\u001b[43m(\u001b[49m\u001b[43mimage_filename_old\u001b[49m\u001b[43m,\u001b[49m\u001b[43m \u001b[49m\u001b[43mimage_filename_new\u001b[49m\u001b[43m)\u001b[49m\n\u001b[0;32m     46\u001b[0m imageNum\u001b[38;5;241m+\u001b[39m\u001b[38;5;241m=\u001b[39m\u001b[38;5;241m1\u001b[39m\n\u001b[0;32m     49\u001b[0m \u001b[38;5;66;03m#####\u001b[39;00m\n",
      "\u001b[1;31mFileExistsError\u001b[0m: [WinError 183] Cannot create a file when that file already exists: './images/abc123_15.jpg' -> './images/ac760d_0.jpg'"
     ]
    }
   ],
   "source": [
    "image_list = build_image_list(IMAGE_DIR)\n",
    "print(\"len: \" + str(len(image_list)))\n",
    "\n",
    "# Add samples to the dataset\n",
    "for image in image_list:\n",
    "    sample = fo.Sample(filepath=image[\"file_path\"])\n",
    "    sample[\"external_id\"] = fo.Classification(label=image[\"external_id\"])\n",
    "    #sample[\"bearing\"] = fo.Classification(label=image[\"bearing\"])\n",
    "    #sample[\"elevation\"] = fo.Classification(label=image[\"elevation\"])\n",
    "    #sample[\"distance\"] = fo.Classification(label=image[\"distance\"])\n",
    "    sample[\"icao24\"] = fo.Classification(label=image[\"icao24\"])\n",
    "    sample.tags.append(DATASOURCE_NAME)\n",
    "    dataset.add_sample(sample)\n",
    "    \n",
    "# print summary of dataset\n",
    "print(dataset)"
   ]
  },
  {
   "cell_type": "code",
   "execution_count": 13,
   "metadata": {},
   "outputs": [
    {
     "name": "stdout",
     "output_type": "stream",
     "text": [
      "Datasets:\n",
      "['jsm-test-dataset-1']\n",
      "\n",
      "Dataset Info for: jsm-test-dataset-1\n",
      "Computing metadata...\n",
      " 100% |███████████████████| 48/48 [8.6s elapsed, 0s remaining, 5.6 samples/s]      \n",
      "Failed to populate metadata on 48 samples. Use `dataset.exists(\"metadata\", False)` to retrieve them\n",
      "{\n",
      "    'samples_count': 48,\n",
      "    'samples_bytes': 21439,\n",
      "    'samples_size': '20.9KB',\n",
      "    'media_bytes': 0,\n",
      "    'media_size': '0.0B',\n",
      "    'total_bytes': 21439,\n",
      "    'total_size': '20.9KB',\n",
      "}\n"
     ]
    }
   ],
   "source": [
    "# Diagnostics\n",
    "print(\"Datasets:\")\n",
    "print(fo.list_datasets())\n",
    "\n",
    "try :\n",
    "    dataset = fo.load_dataset(name=DATASET_NAME)\n",
    "    print(\"\\nDataset Info for: \" + DATASET_NAME)\n",
    "    fo.pprint(dataset.stats(include_media=True))\n",
    "    \n",
    "except ValueError :\n",
    "    print(\"No datasets found\")\n",
    "    \n",
    "\n",
    "\n",
    "# for image in image_list:\n",
    "#     print(\"filename: \" + fo.Sample(filepath=image[\"file_path\"]))\n"
   ]
  },
  {
   "cell_type": "code",
   "execution_count": 9,
   "metadata": {},
   "outputs": [
    {
     "name": "stdout",
     "output_type": "stream",
     "text": [
      "Dataset deleted\n"
     ]
    }
   ],
   "source": [
    "# ONLY RUN IF YOU WANT TO DELETE YOUR DATASET\n",
    "# Delete Dataset by setting below variable to True\n",
    "delete = False\n",
    "if(delete):\n",
    "    try:\n",
    "        dataset = fo.load_dataset(name=DATASET_NAME)\n",
    "        dataset.delete()\n",
    "        print(\"Dataset deleted\")\n",
    "    except ValueError :\n",
    "        print(\"No datasets found\")\n",
    "else :\n",
    "    print(\"set delete to true to delete\")\n"
   ]
  },
  {
   "cell_type": "code",
   "execution_count": null,
   "metadata": {},
   "outputs": [],
   "source": []
  }
 ],
 "metadata": {
  "kernelspec": {
   "display_name": "Python 3 (ipykernel)",
   "language": "python",
   "name": "python3"
  },
  "language_info": {
   "codemirror_mode": {
    "name": "ipython",
    "version": 3
   },
   "file_extension": ".py",
   "mimetype": "text/x-python",
   "name": "python",
   "nbconvert_exporter": "python",
   "pygments_lexer": "ipython3",
   "version": "3.10.9"
  }
 },
 "nbformat": 4,
 "nbformat_minor": 4
}
