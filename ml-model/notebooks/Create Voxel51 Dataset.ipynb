{
 "cells": [
  {
   "cell_type": "markdown",
   "metadata": {
    "tags": []
   },
   "source": [
    "# Creating a Voxel51 Dataset from SkyScan Images\n",
    "This notebook will create a Voxel51 dataset from images captured by SkyScan. The images will be labeled with the ICAO24 identifer from the ADS-B broadcast."
   ]
  },
  {
   "cell_type": "code",
   "execution_count": 1,
   "metadata": {},
   "outputs": [],
   "source": [
    "# Authors: Luke Berndt, John Speed Meyers\n",
    "# SkyScan Project\n",
    "# IQT Labs, IQT"
   ]
  },
  {
   "cell_type": "code",
   "execution_count": 15,
   "metadata": {
    "tags": []
   },
   "outputs": [],
   "source": [
    "import glob\n",
    "import os\n",
    "import random #not needed in production build\n",
    "\n",
    "import fiftyone as fo"
   ]
  },
  {
   "cell_type": "code",
   "execution_count": 12,
   "metadata": {
    "tags": []
   },
   "outputs": [],
   "source": [
    "# Name of the Voxel51 dataset. It should not exist already.\n",
    "DATASET_NAME=\"jsm-test-dataset\"\n",
    "# Directory with the images. It should be mapped into the container using the Docker volume command.\n",
    "IMAGE_DIR=\"/images\"\n",
    "DATASOURCE_NAME=\"testPlaneDetect\""
   ]
  },
  {
   "cell_type": "code",
   "execution_count": 18,
   "metadata": {},
   "outputs": [],
   "source": [
    "def build_image_list(file_path):\n",
    "    \"\"\"Create a list of plane data dicts.\n",
    "    \n",
    "    Extract plane data from from jpg filenames.\n",
    "\n",
    "    The plane image filenames follow a strict naming convention.\n",
    "    For instance, ac760d_194_50_11882_2021-05-13-14-13-42.jpg translates to\n",
    "    ac760d - plane_id, aka ICAO 24\n",
    "    194 - plane bearing\n",
    "    50 - plane elevation\n",
    "    11882 - plane distance\n",
    "    TODO: external_id - ????\n",
    "    \n",
    "    Args:\n",
    "        file_path - Path to images\n",
    "        \n",
    "    Returns:\n",
    "        (list) image_list - a list of plane dict objects\n",
    "    \"\"\"\n",
    "    image_list = []\n",
    "    imageNum = 0\n",
    "    for folder, _, files in os.walk(file_path):\n",
    "        for file in files:\n",
    "            if file.endswith(\".jpg\"):\n",
    "                # extract metadata for each plane from filename\n",
    "                image_filename = os.path.basename(file)\n",
    "                ##### - added code\n",
    "                # FOR TESTING PURPOSES\n",
    "                # changes the path for all the images to be compatible with the notebooks\n",
    "                # randomly assigns a plane_id_num to each \n",
    "                plane_id_num = random.randint(0,2)\n",
    "                plane_id_str\n",
    "                match plane_id_num:\n",
    "                    case 0:\n",
    "                        plane_id_num = \"ac760d\"\n",
    "                    case 1:\n",
    "                        plane_id_num = \"abc123\"\n",
    "                    case 2:\n",
    "                        plane_id_num = \"xyz456\"\n",
    "                        \n",
    "                        \n",
    "                image_filename = plane_id_num + \"_\" + imageNum\n",
    "                imageNum+=1\n",
    "                \n",
    "                \n",
    "                #####\n",
    "                external_id = os.path.splitext(image_filename)[0]\n",
    "                image_path = os.path.abspath(os.path.join(folder, file))\n",
    "                plane_id = external_id.split(\"_\")[0]\n",
    "                #plane_bearing = external_id.split(\"_\")[1]\n",
    "                #plane_elevation = external_id.split(\"_\")[2]\n",
    "                #plane_distance = external_id.split(\"_\")[3]\n",
    "                # place plane image data in a dict\n",
    "                item = {\"file_path\": image_path,\n",
    "                        \"external_id\": external_id,\n",
    "                        #\"bearing\": plane_bearing,\n",
    "                        #\"elevation\": plane_elevation,\n",
    "                        #\"distance\": plane_distance,\n",
    "                        \"icao24\": plane_id}\n",
    "\n",
    "                image_list.append(item)\n",
    "\n",
    "    return image_list"
   ]
  },
  {
   "cell_type": "markdown",
   "metadata": {},
   "source": [
    "## Create or load dataset"
   ]
  },
  {
   "cell_type": "code",
   "execution_count": 19,
   "metadata": {},
   "outputs": [
    {
     "name": "stdout",
     "output_type": "stream",
     "text": [
      "Dataset already exists.Loaded jsm-test-dataset dataset\n"
     ]
    }
   ],
   "source": [
    "# Create dataset\n",
    "# cell time estimate: 15 seconds\n",
    "\n",
    "# attempt to open dataset\n",
    "try:\n",
    "    dataset = fo.Dataset(name=DATASET_NAME)\n",
    "    dataset.persistent = True\n",
    "    print(\"Created {} dataset\".format(DATASET_NAME))\n",
    "# If the dataset already exists, load it instead \n",
    "except ValueError:\n",
    "    dataset = fo.load_dataset(name=DATASET_NAME)\n",
    "    print(\"Dataset already exists.Loaded {} dataset\".format(DATASET_NAME))"
   ]
  },
  {
   "cell_type": "markdown",
   "metadata": {},
   "source": [
    "## Add image samples to Voxel51 dataset"
   ]
  },
  {
   "cell_type": "code",
   "execution_count": 20,
   "metadata": {},
   "outputs": [
    {
     "name": "stdout",
     "output_type": "stream",
     "text": [
      "Name:        jsm-test-dataset\n",
      "Media type:  None\n",
      "Num samples: 0\n",
      "Persistent:  True\n",
      "Tags:        []\n",
      "Sample fields:\n",
      "    id:       fiftyone.core.fields.ObjectIdField\n",
      "    filepath: fiftyone.core.fields.StringField\n",
      "    tags:     fiftyone.core.fields.ListField(fiftyone.core.fields.StringField)\n",
      "    metadata: fiftyone.core.fields.EmbeddedDocumentField(fiftyone.core.metadata.Metadata)\n"
     ]
    }
   ],
   "source": [
    "image_list = build_image_list(IMAGE_DIR)\n",
    "\n",
    "# Add samples to the dataset\n",
    "for image in image_list:\n",
    "    sample = fo.Sample(filepath=image[\"file_path\"])\n",
    "    sample[\"external_id\"] = fo.Classification(label=image[\"external_id\"])\n",
    "    #sample[\"bearing\"] = fo.Classification(label=image[\"bearing\"])\n",
    "    #sample[\"elevation\"] = fo.Classification(label=image[\"elevation\"])\n",
    "    #sample[\"distance\"] = fo.Classification(label=image[\"distance\"])\n",
    "    sample[\"icao24\"] = fo.Classification(label=image[\"icao24\"])\n",
    "    sample.tags.append(DATASOURCE_NAME)\n",
    "    dataset.add_sample(sample)\n",
    "    \n",
    "# print summary of dataset\n",
    "print(dataset)"
   ]
  },
  {
   "cell_type": "code",
   "execution_count": null,
   "metadata": {},
   "outputs": [],
   "source": []
  }
 ],
 "metadata": {
  "kernelspec": {
   "display_name": "Python 3 (ipykernel)",
   "language": "python",
   "name": "python3"
  },
  "language_info": {
   "codemirror_mode": {
    "name": "ipython",
    "version": 3
   },
   "file_extension": ".py",
   "mimetype": "text/x-python",
   "name": "python",
   "nbconvert_exporter": "python",
   "pygments_lexer": "ipython3",
   "version": "3.10.9"
  }
 },
 "nbformat": 4,
 "nbformat_minor": 4
}
